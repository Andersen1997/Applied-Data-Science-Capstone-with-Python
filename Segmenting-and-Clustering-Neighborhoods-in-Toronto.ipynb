{
 "cells": [
  {
   "cell_type": "markdown",
   "metadata": {},
   "source": [
    "# Week 3 Peer-Graded Assignment"
   ]
  },
  {
   "cell_type": "markdown",
   "metadata": {},
   "source": [
    "`Author: Andersen Lin`<br><br>\n",
    "`Date: May 22, 2020`<br><br>\n",
    "`GitHub:` __[github.com/Andersen1997](https://github.com/Andersen1997)__ <br><br>\n",
    "`LinkedIn:` __[linkedin.com/in/andersen-lin/](https://www.linkedin.com/in/andersen-lin/)__"
   ]
  },
  {
   "cell_type": "markdown",
   "metadata": {},
   "source": [
    "<div class=\"alert alert-block alert-success\" style=\"font-size:16px\">\n",
    "<b>Note:</b> This notebook is mainly used for a weekly project of Applied Data Science Capstone by IBM on Coursera. It is shared to my GitHub repository for peer-to-peer review and grading. \n",
    "</div>"
   ]
  },
  {
   "cell_type": "code",
   "execution_count": null,
   "metadata": {},
   "outputs": [],
   "source": []
  }
 ],
 "metadata": {
  "kernelspec": {
   "display_name": "Python 3",
   "language": "python",
   "name": "python3"
  },
  "language_info": {
   "codemirror_mode": {
    "name": "ipython",
    "version": 3
   },
   "file_extension": ".py",
   "mimetype": "text/x-python",
   "name": "python",
   "nbconvert_exporter": "python",
   "pygments_lexer": "ipython3",
   "version": "3.7.6"
  }
 },
 "nbformat": 4,
 "nbformat_minor": 4
}
